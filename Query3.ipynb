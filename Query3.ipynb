{
  "nbformat": 4,
  "nbformat_minor": 0,
  "metadata": {
    "colab": {
      "name": "Query3.ipynb",
      "provenance": [],
      "authorship_tag": "ABX9TyMF+ToJfWRMnfwLBMZzDUcY",
      "include_colab_link": true
    },
    "kernelspec": {
      "name": "python3",
      "display_name": "Python 3"
    }
  },
  "cells": [
    {
      "cell_type": "markdown",
      "metadata": {
        "id": "view-in-github",
        "colab_type": "text"
      },
      "source": [
        "<a href=\"https://colab.research.google.com/github/suthar26/learning/blob/master/Query3.ipynb\" target=\"_parent\"><img src=\"https://colab.research.google.com/assets/colab-badge.svg\" alt=\"Open In Colab\"/></a>"
      ]
    },
    {
      "cell_type": "code",
      "metadata": {
        "id": "QinAEQxBFXJo",
        "colab_type": "code",
        "colab": {}
      },
      "source": [
        "import pandas as pd\n",
        "import numpy as np"
      ],
      "execution_count": 0,
      "outputs": []
    },
    {
      "cell_type": "code",
      "metadata": {
        "id": "QESrA0A0FX9X",
        "colab_type": "code",
        "colab": {}
      },
      "source": [
        "responses = pd.read_csv('./perquestion.csv')\n",
        "responses.drop(['Question'],axis=1,inplace=True)\n",
        "X= responses.iloc[:,]\n",
        "X_arr = np.array(X)"
      ],
      "execution_count": 0,
      "outputs": []
    },
    {
      "cell_type": "code",
      "metadata": {
        "id": "xEdQdd3tFX_q",
        "colab_type": "code",
        "colab": {
          "base_uri": "https://localhost:8080/",
          "height": 272
        },
        "outputId": "fe0f8ccd-d3f5-4946-adb5-408ff50298a6"
      },
      "source": [
        "i = 0;\n",
        "arr = []\n",
        "for x in X_arr:\n",
        "  total = 0;\n",
        "  for q in range(0,12,3):\n",
        "    total += max(x[q:q+3])\n",
        "  i+= 1\n",
        "  arr.append(((total/4) , i))\n",
        "arr.sort(reverse=True)\n",
        "for elem in arr:\n",
        "  print(elem)\n"
      ],
      "execution_count": 3,
      "outputs": [
        {
          "output_type": "stream",
          "text": [
            "(100.0, 12)\n",
            "(98.5, 10)\n",
            "(94.5, 8)\n",
            "(94.25, 7)\n",
            "(86.0, 2)\n",
            "(85.5, 3)\n",
            "(84.5, 11)\n",
            "(83.25, 13)\n",
            "(81.75, 1)\n",
            "(79.0, 9)\n",
            "(73.5, 14)\n",
            "(69.5, 6)\n",
            "(62.25, 4)\n",
            "(61.25, 15)\n",
            "(61.0, 5)\n"
          ],
          "name": "stdout"
        }
      ]
    },
    {
      "cell_type": "code",
      "metadata": {
        "id": "SNhgWUydFYCA",
        "colab_type": "code",
        "colab": {}
      },
      "source": [
        ""
      ],
      "execution_count": 0,
      "outputs": []
    }
  ]
}